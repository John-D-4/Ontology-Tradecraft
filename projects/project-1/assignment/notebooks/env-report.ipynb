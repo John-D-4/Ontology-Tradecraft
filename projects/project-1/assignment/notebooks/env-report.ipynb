{
 "cells": [
  {
   "cell_type": "code",
   "execution_count": null,
   "id": "a21d9023-9e48-4142-8c05-45f1decdee45",
   "metadata": {},
   "outputs": [
    {
     "name": "stdout",
     "output_type": "stream",
     "text": [
      "3.12.11 (main, Nov 10 2011, 15:00:00) [GCC 14.3.0]\n"
     ]
    }
   ],
   "source": [
    "# https://github.com/Applied-Ontology-Education/Ontology-Tradecraft/tree/main/projects/project-1/assignment\n",
    "# ~/ot-venv/ \n",
    "# 1 of 3: print Print your Python version\n",
    "import sys\n",
    "print(sys.version)"
   ]
  },
  {
   "cell_type": "code",
   "execution_count": null,
   "id": "72249160-685d-4570-8d7f-5620e4bebb17",
   "metadata": {},
   "outputs": [
    {
     "name": "stdout",
     "output_type": "stream",
     "text": [
      "rdflib: 7.2.1\n",
      "SPARQLWrapper: 2.0.0\n",
      "pyshacl: 0.30.1\n"
     ]
    }
   ],
   "source": [
    "# 2 of 3: Import rdflib, SPARQLWrapper, and pyshacl.\n",
    "# note: couldn't get pyshacl installed as system-wide on thinkpad0. switched to venv, worked great\n",
    "import rdflib\n",
    "import SPARQLWrapper\n",
    "import pyshacl\n",
    "\n",
    "print(\"rdflib:\", rdflib.__version__)\n",
    "print(\"SPARQLWrapper:\", SPARQLWrapper.__version__)\n",
    "# pyshacl has __version__ on the package, not module attribute in some versions:\n",
    "try:\n",
    "    import pyshacl\n",
    "    print(\"pyshacl:\", getattr(pyshacl, \"__version__\", \"installed\"))\n",
    "except Exception as e:\n",
    "    print(\"pyshacl import error:\", e)"
   ]
  },
  {
   "cell_type": "code",
   "execution_count": 6,
   "id": "62d9ce77-8891-44d3-8996-3b969e53b2f3",
   "metadata": {},
   "outputs": [
    {
     "name": "stdout",
     "output_type": "stream",
     "text": [
      "Triple count: 2\n"
     ]
    }
   ],
   "source": [
    "# 3 of 3: Parse the provided file sample.ttl and print the number of triples it contains\n",
    "from pathlib import Path\n",
    "import rdflib\n",
    "\n",
    "ttl_path = Path(__file__).resolve().parents[1] / \"notebooks\" / \"sample.ttl\" if \"__file__\" in globals() else Path.cwd() / \"sample.ttl\"\n",
    "if not ttl_path.exists():\n",
    "    # if launched with a different working dir in Jupyter, also try parent\n",
    "    alt = Path.cwd().parent / \"notebooks\" / \"sample.ttl\"\n",
    "    ttl_path = alt if alt.exists() else ttl_path\n",
    "\n",
    "g = rdflib.Graph()\n",
    "g.parse(str(ttl_path), format=\"turtle\")\n",
    "print(\"Triple count:\", len(g))"
   ]
  },
  {
   "cell_type": "code",
   "execution_count": null,
   "id": "f26f298d-328b-4196-9c8e-b4122de9e7f1",
   "metadata": {},
   "outputs": [],
   "source": []
  }
 ],
 "metadata": {
  "kernelspec": {
   "display_name": ".venv",
   "language": "python",
   "name": "python3"
  },
  "language_info": {
   "codemirror_mode": {
    "name": "ipython",
    "version": 3
   },
   "file_extension": ".py",
   "mimetype": "text/x-python",
   "name": "python",
   "nbconvert_exporter": "python",
   "pygments_lexer": "ipython3",
   "version": "3.12.11"
  }
 },
 "nbformat": 4,
 "nbformat_minor": 5
}
